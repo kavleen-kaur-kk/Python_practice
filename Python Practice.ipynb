{
 "cells": [
  {
   "cell_type": "markdown",
   "id": "6831b5ac-0c81-45fd-8286-5fdd8ae710d8",
   "metadata": {},
   "source": [
    "# Day1: Basic Python Quick Practice:"
   ]
  },
  {
   "cell_type": "markdown",
   "id": "2636304e-7b63-4cce-b00d-db13ec79b38b",
   "metadata": {},
   "source": [
    "# Quick Practice\n",
    "#### Create a welcome inteface\n",
    "#### Ask user to enter their age\n",
    "#### if age is greater than 18 then ask them to create a user name and password ask to enter\n",
    "#### if user name is correct then request for password\n",
    "#### if password is correct mention Welcome and create your profile"
   ]
  },
  {
   "cell_type": "code",
   "execution_count": 2,
   "id": "a2a3aeaf-03e5-490f-a667-fed378bbfb5d",
   "metadata": {},
   "outputs": [
    {
     "name": "stdout",
     "output_type": "stream",
     "text": [
      "Welcome\n",
      "Enter your age:\n"
     ]
    },
    {
     "name": "stdin",
     "output_type": "stream",
     "text": [
      " 20\n"
     ]
    },
    {
     "name": "stdout",
     "output_type": "stream",
     "text": [
      "Create username and password\n"
     ]
    },
    {
     "name": "stdin",
     "output_type": "stream",
     "text": [
      "Username:  yyy\n",
      "Password:  123\n"
     ]
    },
    {
     "name": "stdout",
     "output_type": "stream",
     "text": [
      "Enter username and password: \n"
     ]
    },
    {
     "name": "stdin",
     "output_type": "stream",
     "text": [
      "Username:  yyy\n",
      "Password:  123\n"
     ]
    },
    {
     "name": "stdout",
     "output_type": "stream",
     "text": [
      "Welcome and create your profile\n"
     ]
    }
   ],
   "source": [
    "print(\"Welcome\")\n",
    "print(\"Enter your age:\")\n",
    "age=int(input())\n",
    "if age>18:\n",
    "    print(\"Create username and password\")\n",
    "    username=input(\"Username: \")\n",
    "    password=input(\"Password: \")\n",
    "    print(\"Enter username and password: \")\n",
    "    username_entered=input(\"Username: \")\n",
    "    if username_entered==username:\n",
    "        password_entered=input(\"Password: \")\n",
    "        if password_entered== password:\n",
    "            print(\"Welcome and create your profile\")\n",
    "        else:\n",
    "            print(\"Incorrect password\")\n",
    "    else:\n",
    "        print(\"Incorrect username\")\n",
    "else:\n",
    "    print(\"Access denied, age<18\")"
   ]
  },
  {
   "cell_type": "markdown",
   "id": "3e00968b-57cd-445e-a6fc-9ce6fc563970",
   "metadata": {},
   "source": [
    "# Day2: Numpy Quick Practice:\n",
    "#### Create an array using arange function starting with 50 and end with 10.\n",
    "#### reshape it to 2D array"
   ]
  },
  {
   "cell_type": "code",
   "execution_count": 3,
   "id": "72557c37-8e0a-40ac-a374-9711e2157e28",
   "metadata": {},
   "outputs": [],
   "source": [
    "import numpy as np"
   ]
  },
  {
   "cell_type": "code",
   "execution_count": 4,
   "id": "70295e3b-7f41-4663-9594-ce12d2c778c2",
   "metadata": {},
   "outputs": [
    {
     "name": "stdout",
     "output_type": "stream",
     "text": [
      "[50 49 48 47 46 45 44 43 42 41 40 39 38 37 36 35 34 33 32 31 30 29 28 27\n",
      " 26 25 24 23 22 21 20 19 18 17 16 15 14 13 12 11 10]\n"
     ]
    }
   ],
   "source": [
    "arr=np.arange(50,9,-1)\n",
    "print(arr)"
   ]
  },
  {
   "cell_type": "code",
   "execution_count": 10,
   "id": "41108a43-f0cc-41b9-b7fc-8f4309c14362",
   "metadata": {},
   "outputs": [
    {
     "name": "stdout",
     "output_type": "stream",
     "text": [
      "[[50 49 48 47 46 45 44 43 42 41 40 39 38 37 36 35 34 33 32 31 30 29 28 27\n",
      "  26 25 24 23 22 21 20 19 18 17 16 15 14 13 12 11 10]]\n"
     ]
    }
   ],
   "source": [
    "arr_2D= arr.reshape(1,41)\n",
    "print(arr_2D)"
   ]
  },
  {
   "cell_type": "markdown",
   "id": "e9fbdbff-dabb-4024-806a-bc0d6cc3bc61",
   "metadata": {},
   "source": [
    "# Quick Practice:\n",
    "#### Create a 4x4 matrix of all fives.\n",
    "#### Create an array of 20 numbers between 10 and 50 (inclusive)."
   ]
  },
  {
   "cell_type": "code",
   "execution_count": 5,
   "id": "5e8c7b3b-461a-43bc-be48-ade6a4d638e0",
   "metadata": {},
   "outputs": [
    {
     "name": "stdout",
     "output_type": "stream",
     "text": [
      "[[5 5 5 5]\n",
      " [5 5 5 5]\n",
      " [5 5 5 5]\n",
      " [5 5 5 5]]\n"
     ]
    }
   ],
   "source": [
    "matrix=np.full((4,4),5)\n",
    "print(matrix)"
   ]
  },
  {
   "cell_type": "code",
   "execution_count": 7,
   "id": "782e0a67-2b06-42ab-83d4-0d2d4ce67caa",
   "metadata": {},
   "outputs": [
    {
     "name": "stdout",
     "output_type": "stream",
     "text": [
      "[10 12 14 16 18 20 22 24 26 28 31 33 35 37 39 41 43 45 47 50]\n"
     ]
    }
   ],
   "source": [
    "array=np.linspace(10,50,20, dtype=\"int\")\n",
    "print(array)"
   ]
  },
  {
   "cell_type": "markdown",
   "id": "ec4dddb7-f2c0-4ad6-899d-51d866c5ac8b",
   "metadata": {},
   "source": [
    "# Quick Practice:\n",
    "#### Extract every 2nd element from an array of numbers 0-20.\n",
    "#### From a 3x3 matrix, extract the last column"
   ]
  },
  {
   "cell_type": "code",
   "execution_count": 14,
   "id": "d83096e4-699a-4847-9012-1cd48f6e4c09",
   "metadata": {},
   "outputs": [
    {
     "name": "stdout",
     "output_type": "stream",
     "text": [
      "[ 0  1  2  3  4  5  6  7  8  9 10 11 12 13 14 15 16 17 18 19 20]\n"
     ]
    }
   ],
   "source": [
    "array1= np.arange(0,21)\n",
    "print(array1)"
   ]
  },
  {
   "cell_type": "code",
   "execution_count": 15,
   "id": "db482d34-8880-4248-8c11-50adfe329dc7",
   "metadata": {},
   "outputs": [
    {
     "name": "stdout",
     "output_type": "stream",
     "text": [
      "[ 0  2  4  6  8 10 12 14 16 18 20]\n"
     ]
    }
   ],
   "source": [
    "array1_sec_element= array1[::2]\n",
    "print(array1_sec_element)"
   ]
  },
  {
   "cell_type": "code",
   "execution_count": 16,
   "id": "acc7a48f-838e-4239-b0ce-d5d0e593117e",
   "metadata": {},
   "outputs": [
    {
     "name": "stdout",
     "output_type": "stream",
     "text": [
      "[[1 2 3]\n",
      " [4 5 6]\n",
      " [7 8 9]]\n"
     ]
    }
   ],
   "source": [
    "matrix1= np.array([[1,2,3],\n",
    "                   [4,5,6],\n",
    "                   [7,8,9]])\n",
    "print(matrix1)"
   ]
  },
  {
   "cell_type": "code",
   "execution_count": 17,
   "id": "60138c1d-9166-4579-8db8-65972b3f73bf",
   "metadata": {},
   "outputs": [
    {
     "name": "stdout",
     "output_type": "stream",
     "text": [
      "[3 6 9]\n"
     ]
    }
   ],
   "source": [
    "matrix1_last_col= matrix1[:,2]\n",
    "print(matrix1_last_col)"
   ]
  },
  {
   "cell_type": "markdown",
   "id": "910d2ef0-fe2b-4d22-83e1-1d885a957085",
   "metadata": {},
   "source": [
    "# Day3: Pandas Lets Practice\n",
    "#### Check null values for the given data\n",
    "#### replace null values by mean/median/mode\n",
    "#### describe"
   ]
  },
  {
   "cell_type": "code",
   "execution_count": 36,
   "id": "8a4defca-8cdf-4b5a-b9d2-1a7a92fd1ffa",
   "metadata": {},
   "outputs": [
    {
     "data": {
      "text/html": [
       "<div>\n",
       "<style scoped>\n",
       "    .dataframe tbody tr th:only-of-type {\n",
       "        vertical-align: middle;\n",
       "    }\n",
       "\n",
       "    .dataframe tbody tr th {\n",
       "        vertical-align: top;\n",
       "    }\n",
       "\n",
       "    .dataframe thead th {\n",
       "        text-align: right;\n",
       "    }\n",
       "</style>\n",
       "<table border=\"1\" class=\"dataframe\">\n",
       "  <thead>\n",
       "    <tr style=\"text-align: right;\">\n",
       "      <th></th>\n",
       "      <th>Brand</th>\n",
       "      <th>Price</th>\n",
       "      <th>Rating(10)</th>\n",
       "    </tr>\n",
       "  </thead>\n",
       "  <tbody>\n",
       "    <tr>\n",
       "      <th>0</th>\n",
       "      <td>Nokia</td>\n",
       "      <td>10000.0</td>\n",
       "      <td>7.0</td>\n",
       "    </tr>\n",
       "    <tr>\n",
       "      <th>1</th>\n",
       "      <td>Asus</td>\n",
       "      <td>8000.0</td>\n",
       "      <td>6.5</td>\n",
       "    </tr>\n",
       "    <tr>\n",
       "      <th>2</th>\n",
       "      <td>Nokia</td>\n",
       "      <td>12500.0</td>\n",
       "      <td>8.5</td>\n",
       "    </tr>\n",
       "    <tr>\n",
       "      <th>3</th>\n",
       "      <td>Nokia</td>\n",
       "      <td>7000.0</td>\n",
       "      <td>9.0</td>\n",
       "    </tr>\n",
       "    <tr>\n",
       "      <th>4</th>\n",
       "      <td>Samsung</td>\n",
       "      <td>40000.0</td>\n",
       "      <td>8.0</td>\n",
       "    </tr>\n",
       "    <tr>\n",
       "      <th>5</th>\n",
       "      <td>ABC</td>\n",
       "      <td>12000.0</td>\n",
       "      <td>9.5</td>\n",
       "    </tr>\n",
       "    <tr>\n",
       "      <th>6</th>\n",
       "      <td>Micromax</td>\n",
       "      <td>12999.0</td>\n",
       "      <td>7.0</td>\n",
       "    </tr>\n",
       "    <tr>\n",
       "      <th>7</th>\n",
       "      <td>Apple</td>\n",
       "      <td>13999.0</td>\n",
       "      <td>9.0</td>\n",
       "    </tr>\n",
       "    <tr>\n",
       "      <th>8</th>\n",
       "      <td>MI</td>\n",
       "      <td>59999.0</td>\n",
       "      <td>NaN</td>\n",
       "    </tr>\n",
       "    <tr>\n",
       "      <th>9</th>\n",
       "      <td>Zen</td>\n",
       "      <td>NaN</td>\n",
       "      <td>NaN</td>\n",
       "    </tr>\n",
       "    <tr>\n",
       "      <th>10</th>\n",
       "      <td>Apple</td>\n",
       "      <td>NaN</td>\n",
       "      <td>NaN</td>\n",
       "    </tr>\n",
       "  </tbody>\n",
       "</table>\n",
       "</div>"
      ],
      "text/plain": [
       "       Brand    Price  Rating(10)\n",
       "0      Nokia  10000.0         7.0\n",
       "1       Asus   8000.0         6.5\n",
       "2      Nokia  12500.0         8.5\n",
       "3      Nokia   7000.0         9.0\n",
       "4    Samsung  40000.0         8.0\n",
       "5        ABC  12000.0         9.5\n",
       "6   Micromax  12999.0         7.0\n",
       "7      Apple  13999.0         9.0\n",
       "8         MI  59999.0         NaN\n",
       "9        Zen      NaN         NaN\n",
       "10     Apple      NaN         NaN"
      ]
     },
     "execution_count": 36,
     "metadata": {},
     "output_type": "execute_result"
    }
   ],
   "source": [
    "import pandas as pd\n",
    "details = {'Brand':pd.Series(['Nokia','Asus',\"Nokia\",\"Nokia\",'Samsung',\"ABC\",'Micromax','Apple','MI','Zen',\"Apple\"]),\n",
    "   'Price':pd.Series([10000,8000,12500,7000,40000,12000,12999,13999,59999]),\n",
    "   'Rating(10)':pd.Series([7,6.5,8.5,9,8,9.5,7,9])\n",
    "}\n",
    "\n",
    "d = pd.DataFrame(details)\n",
    "d"
   ]
  },
  {
   "cell_type": "code",
   "execution_count": 21,
   "id": "9deb06d3-2e27-44b3-9227-de559e96c70d",
   "metadata": {},
   "outputs": [
    {
     "data": {
      "text/plain": [
       "Brand         0\n",
       "Price         2\n",
       "Rating(10)    3\n",
       "dtype: int64"
      ]
     },
     "execution_count": 21,
     "metadata": {},
     "output_type": "execute_result"
    }
   ],
   "source": [
    "d.isnull().sum()"
   ]
  },
  {
   "cell_type": "code",
   "execution_count": 34,
   "id": "67a8bf88-da0c-422d-8544-28f0e485ec75",
   "metadata": {},
   "outputs": [
    {
     "data": {
      "text/plain": [
       "count       11.000000\n",
       "mean     18317.909091\n",
       "std      16430.375148\n",
       "min       7000.000000\n",
       "25%      11000.000000\n",
       "50%      12500.000000\n",
       "75%      13499.000000\n",
       "max      59999.000000\n",
       "Name: Price, dtype: float64"
      ]
     },
     "execution_count": 34,
     "metadata": {},
     "output_type": "execute_result"
    }
   ],
   "source": [
    "d.describe()"
   ]
  },
  {
   "cell_type": "code",
   "execution_count": 39,
   "id": "80054612-d6a2-41f8-9c8a-a7ec30476635",
   "metadata": {},
   "outputs": [
    {
     "name": "stdout",
     "output_type": "stream",
     "text": [
      "       Brand    Price  Rating(10)\n",
      "0      Nokia  10000.0        7.00\n",
      "1       Asus   8000.0        6.50\n",
      "2      Nokia  12500.0        8.50\n",
      "3      Nokia   7000.0        9.00\n",
      "4    Samsung  40000.0        8.00\n",
      "5        ABC  12000.0        9.50\n",
      "6   Micromax  12999.0        7.00\n",
      "7      Apple  13999.0        9.00\n",
      "8         MI  59999.0        8.25\n",
      "9        Zen  12500.0        8.25\n",
      "10     Apple  12500.0        8.25\n"
     ]
    }
   ],
   "source": [
    "for col in d.select_dtypes(include=[np.number]).columns:\n",
    "    median_value=d[col].median()\n",
    "    d[col].fillna(median_value)\n",
    "print(d)"
   ]
  },
  {
   "cell_type": "code",
   "execution_count": null,
   "id": "645cdbf8-00ff-4957-8f30-e58b74c2cea0",
   "metadata": {},
   "outputs": [],
   "source": []
  }
 ],
 "metadata": {
  "kernelspec": {
   "display_name": "Python 3 (ipykernel)",
   "language": "python",
   "name": "python3"
  },
  "language_info": {
   "codemirror_mode": {
    "name": "ipython",
    "version": 3
   },
   "file_extension": ".py",
   "mimetype": "text/x-python",
   "name": "python",
   "nbconvert_exporter": "python",
   "pygments_lexer": "ipython3",
   "version": "3.13.3"
  }
 },
 "nbformat": 4,
 "nbformat_minor": 5
}
